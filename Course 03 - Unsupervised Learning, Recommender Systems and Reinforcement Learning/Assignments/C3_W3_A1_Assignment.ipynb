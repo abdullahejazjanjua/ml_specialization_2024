{
 "cells": [
  {
   "cell_type": "markdown",
   "metadata": {},
   "source": [
    "# Deep Q-Learning - Lunar Lander\n",
    "\n",
    "In this assignment, you will train an agent to land a lunar lander safely on a landing pad on the surface of the moon.\n",
    "\n",
    "\n",
    "# Outline\n",
    "- [ 1 - Import Packages <img align=\"Right\" src=\"./images/lunar_lander.gif\" width = 60% >](#1)\n",
    "- [ 2 - Hyperparameters](#2)\n",
    "- [ 3 - The Lunar Lander Environment](#3)\n",
    "  - [ 3.1 Action Space](#3.1)\n",
    "  - [ 3.2 Observation Space](#3.2)\n",
    "  - [ 3.3 Rewards](#3.3)\n",
    "  - [ 3.4 Episode Termination](#3.4)\n",
    "- [ 4 - Load the Environment](#4)\n",
    "- [ 5 - Interacting with the Gym Environment](#5)\n",
    "    - [ 5.1 Exploring the Environment's Dynamics](#5.1)\n",
    "- [ 6 - Deep Q-Learning](#6)\n",
    "  - [ 6.1 Target Network](#6.1)\n",
    "    - [ Exercise 1](#ex01)\n",
    "  - [ 6.2 Experience Replay](#6.2)\n",
    "- [ 7 - Deep Q-Learning Algorithm with Experience Replay](#7)\n",
    "  - [ Exercise 2](#ex02)\n",
    "- [ 8 - Update the Network Weights](#8)\n",
    "- [ 9 - Train the Agent](#9)\n",
    "- [ 10 - See the Trained Agent In Action](#10)\n",
    "- [ 11 - Congratulations!](#11)\n",
    "- [ 12 - References](#12)\n"
   ]
  },
  {
   "cell_type": "markdown",
   "metadata": {},
   "source": [
    "_**NOTE:** To prevent errors from the autograder, you are not allowed to edit or delete non-graded cells in this lab. Please also refrain from adding any new cells. \n",
    "**Once you have passed this assignment** and want to experiment with any of the non-graded code, you may follow the instructions at the bottom of this notebook._"
   ]
  },
  {
   "cell_type": "markdown",
   "metadata": {},
   "source": [
    "<a name=\"1\"></a>\n",
    "## 1 - Import Packages\n",
    "\n",
    "We'll make use of the following packages:\n",
    "- `numpy` is a package for scientific computing in python.\n",
    "- `deque` will be our data structure for our memory buffer.\n",
    "- `namedtuple` will be used to store the experience tuples.\n",
    "- The `gym` toolkit is a collection of environments that can be used to test reinforcement learning algorithms. We should note that in this notebook we are using `gym` version `0.24.0`.\n",
    "- `PIL.Image` and `pyvirtualdisplay` are needed to render the Lunar Lander environment.\n",
    "- We will use several modules from the `tensorflow.keras` framework for building deep learning models.\n",
    "- `utils` is a module that contains helper functions for this assignment. You do not need to modify the code in this file.\n",
    "\n",
    "Run the cell below to import all the necessary packages."
   ]
  },
  {
   "cell_type": "code",
   "execution_count": 1,
   "metadata": {
    "deletable": false,
    "editable": false,
    "id": "KYbOPKRtfQOr"
   },
   "outputs": [],
   "source": [
    "import time\n",
    "from collections import deque, namedtuple\n",
    "\n",
    "import gym\n",
    "import numpy as np\n",
    "import PIL.Image\n",
    "import tensorflow as tf\n",
    "import utils\n",
    "\n",
    "from pyvirtualdisplay import Display\n",
    "from tensorflow.keras import Sequential\n",
    "from tensorflow.keras.layers import Dense, Input\n",
    "from tensorflow.keras.losses import MSE\n",
    "from tensorflow.keras.optimizers import Adam"
   ]
  },
  {
   "cell_type": "code",
   "execution_count": 2,
   "metadata": {
    "deletable": false,
    "editable": false
   },
   "outputs": [],
   "source": [
    "# Set up a virtual display to render the Lunar Lander environment.\n",
    "Display(visible=0, size=(840, 480)).start();\n",
    "\n",
    "# Set the random seed for TensorFlow\n",
    "tf.random.set_seed(utils.SEED)"
   ]
  },
  {
   "cell_type": "markdown",
   "metadata": {},
   "source": [
    "<a name=\"2\"></a>\n",
    "## 2 - Hyperparameters\n",
    "\n",
    "Run the cell below to set the hyperparameters."
   ]
  },
  {
   "cell_type": "code",
   "execution_count": 3,
   "metadata": {
    "deletable": false,
    "editable": false
   },
   "outputs": [],
   "source": [
    "MEMORY_SIZE = 100_000     # size of memory buffer\n",
    "GAMMA = 0.995             # discount factor\n",
    "ALPHA = 1e-3              # learning rate  \n",
    "NUM_STEPS_FOR_UPDATE = 4  # perform a learning update every C time steps"
   ]
  },
  {
   "cell_type": "markdown",
   "metadata": {},
   "source": [
    "<a name=\"3\"></a>\n",
    "## 3 - The Lunar Lander Environment\n",
    "\n",
    "In this notebook we will be using [OpenAI's Gym Library](https://www.gymlibrary.dev/). The Gym library provides a wide variety of environments for reinforcement learning. To put it simply, an environment represents a problem or task to be solved. In this notebook, we will try to solve the Lunar Lander environment using reinforcement learning.\n",
    "\n",
    "The goal of the Lunar Lander environment is to land the lunar lander safely on the landing pad on the surface of the moon. The landing pad is designated by two flag poles and its center is at coordinates `(0,0)` but the lander is also allowed to land outside of the landing pad. The lander starts at the top center of the environment with a random initial force applied to its center of mass and has infinite fuel. The environment is considered solved if you get `200` points. \n",
    "\n",
    "<br>\n",
    "<br>\n",
    "<figure>\n",
    "  <img src = \"images/lunar_lander.gif\" width = 40%>\n",
    "      <figcaption style = \"text-align: center; font-style: italic\">Fig 1. Lunar Lander Environment.</figcaption>\n",
    "</figure>\n",
    "\n",
    "\n",
    "\n",
    "<a name=\"3.1\"></a>\n",
    "### 3.1 Action Space\n",
    "\n",
    "The agent has four discrete actions available:\n",
    "\n",
    "* Do nothing.\n",
    "* Fire right engine.\n",
    "* Fire main engine.\n",
    "* Fire left engine.\n",
    "\n",
    "Each action has a corresponding numerical value:\n",
    "\n",
    "```python\n",
    "Do nothing = 0\n",
    "Fire right engine = 1\n",
    "Fire main engine = 2\n",
    "Fire left engine = 3\n",
    "```\n",
    "\n",
    "<a name=\"3.2\"></a>\n",
    "### 3.2 Observation Space\n",
    "\n",
    "The agent's observation space consists of a state vector with 8 variables:\n",
    "\n",
    "* Its $(x,y)$ coordinates. The landing pad is always at coordinates $(0,0)$.\n",
    "* Its linear velocities $(\\dot x,\\dot y)$.\n",
    "* Its angle $\\theta$.\n",
    "* Its angular velocity $\\dot \\theta$.\n",
    "* Two booleans, $l$ and $r$, that represent whether each leg is in contact with the ground or not.\n",
    "\n",
    "<a name=\"3.3\"></a>\n",
    "### 3.3 Rewards\n",
    "\n",
    "After every step, a reward is granted. The total reward of an episode is the sum of the rewards for all the steps within that episode.\n",
    "\n",
    "For each step, the reward:\n",
    "- is increased/decreased the closer/further the lander is to the landing pad.\n",
    "- is increased/decreased the slower/faster the lander is moving.\n",
    "- is decreased the more the lander is tilted (angle not horizontal).\n",
    "- is increased by 10 points for each leg that is in contact with the ground.\n",
    "- is decreased by 0.03 points each frame a side engine is firing.\n",
    "- is decreased by 0.3 points each frame the main engine is firing.\n",
    "\n",
    "The episode receives an additional reward of -100 or +100 points for crashing or landing safely respectively.\n",
    "\n",
    "<a name=\"3.4\"></a>\n",
    "### 3.4 Episode Termination\n",
    "\n",
    "An episode ends (i.e the environment enters a terminal state) if:\n",
    "\n",
    "* The lunar lander crashes (i.e if the body of the lunar lander comes in contact with the surface of the moon).\n",
    "\n",
    "* The absolute value of the lander's $x$-coordinate is greater than 1 (i.e. it goes beyond the left or right border)\n",
    "\n",
    "You can check out the [Open AI Gym documentation](https://www.gymlibrary.dev/environments/box2d/lunar_lander/) for a full description of the environment. "
   ]
  },
  {
   "cell_type": "markdown",
   "metadata": {},
   "source": [
    "<a name=\"4\"></a>\n",
    "## 4 - Load the Environment\n",
    "\n",
    "We start by loading the `LunarLander-v2` environment from the `gym` library by using the `.make()` method. `LunarLander-v2` is the latest version of the Lunar Lander environment and you can read about its version history in the [Open AI Gym documentation](https://www.gymlibrary.dev/environments/box2d/lunar_lander/#version-history)."
   ]
  },
  {
   "cell_type": "code",
   "execution_count": 4,
   "metadata": {
    "deletable": false,
    "editable": false,
    "id": "ILVMYKewfR0n"
   },
   "outputs": [],
   "source": [
    "env = gym.make('LunarLander-v2')"
   ]
  },
  {
   "cell_type": "markdown",
   "metadata": {},
   "source": [
    "Once we load the environment we use the `.reset()` method to reset the environment to the initial state. The lander starts at the top center of the environment and we can render the first frame of the environment by using the `.render()` method."
   ]
  },
  {
   "cell_type": "code",
   "execution_count": 5,
   "metadata": {
    "deletable": false,
    "editable": false
   },
   "outputs": [
    {
     "data": {
      "image/png": "[encoded data removed]",
      "text/plain": [
       "<PIL.Image.Image image mode=RGB size=600x400 at 0x71D3D4AEAED0>"
      ]
     },
     "execution_count": 5,
     "metadata": {},
     "output_type": "execute_result"
    }
   ],
   "source": [
    "env.reset()\n",
    "PIL.Image.fromarray(env.render(mode='rgb_array'))"
   ]
  },
  {
   "cell_type": "markdown",
   "metadata": {},
   "source": [
    "In order to build our neural network later on we need to know the size of the state vector and the number of valid actions. We can get this information from our environment by using the `.observation_space.shape` and `action_space.n` methods, respectively."
   ]
  },
  {
   "cell_type": "code",
   "execution_count": 6,
   "metadata": {
    "deletable": false,
    "editable": false,
    "id": "x3fdqdG4CUu2"
   },
   "outputs": [
    {
     "name": "stdout",
     "output_type": "stream",
     "text": [
      "State Shape: (8,)\n",
      "Number of actions: 4\n"
     ]
    }
   ],
   "source": [
    "state_size = env.observation_space.shape\n",
    "num_actions = env.action_space.n\n",
    "\n",
    "print('State Shape:', state_size)\n",
    "print('Number of actions:', num_actions)"
   ]
  },
  {
   "cell_type": "markdown",
   "metadata": {},
   "source": [
    "<a name=\"5\"></a>\n",
    "## 5 - Interacting with the Gym Environment\n",
    "\n",
    "The Gym library implements the standard “agent-environment loop” formalism:\n",
    "\n",
    "<br>\n",
    "<center>\n",
    "<video src = \"./videos/rl_formalism.m4v\" width=\"840\" height=\"480\" controls autoplay loop poster=\"./images/rl_formalism.png\"> </video>\n",
    "<figcaption style = \"text-align:center; font-style:italic\">Fig 2. Agent-environment Loop Formalism.</figcaption>\n",
    "</center>\n",
    "<br>\n",
    "\n",
    "In the standard “agent-environment loop” formalism, an agent interacts with the environment in discrete time steps $t=0,1,2,...$. At each time step $t$, the agent uses a policy $\\pi$ to select an action $A_t$ based on its observation of the environment's state $S_t$. The agent receives a numerical reward $R_t$ and on the next time step, moves to a new state $S_{t+1}$.\n",
    "\n",
    "<a name=\"5.1\"></a>\n",
    "### 5.1 Exploring the Environment's Dynamics\n",
    "\n",
    "In Open AI's Gym environments, we use the `.step()` method to run a single time step of the environment's dynamics. In the version of `gym` that we are using the `.step()` method accepts an action and returns four values:\n",
    "\n",
    "* `observation` (**object**): an environment-specific object representing your observation of the environment. In the Lunar Lander environment this corresponds to a numpy array containing the positions and velocities of the lander as described in section [3.2 Observation Space](#3.2).\n",
    "\n",
    "\n",
    "* `reward` (**float**): amount of reward returned as a result of taking the given action. In the Lunar Lander environment this corresponds to a float of type `numpy.float64` as described in section [3.3 Rewards](#3.3).\n",
    "\n",
    "\n",
    "* `done` (**boolean**): When done is `True`, it indicates the episode has terminated and it’s time to reset the environment. \n",
    "\n",
    "\n",
    "* `info` (**dictionary**): diagnostic information useful for debugging. We won't be using this variable in this notebook but it is shown here for completeness.\n",
    "\n",
    "To begin an episode, we need to reset the environment to an initial state. We do this by using the `.reset()` method. "
   ]
  },
  {
   "cell_type": "code",
   "execution_count": 7,
   "metadata": {
    "deletable": false,
    "editable": false
   },
   "outputs": [],
   "source": [
    "# Reset the environment and get the initial state.\n",
    "current_state = env.reset()"
   ]
  },
  {
   "cell_type": "markdown",
   "metadata": {},
   "source": [
    "Once the environment is reset, the agent can start taking actions in the environment by using the `.step()` method. Note that the agent can only take one action per time step. \n",
    "\n",
    "In the cell below you can select different actions and see how the returned values change depending on the action taken. Remember that in this environment the agent has four discrete actions available and we specify them in code by using their corresponding numerical value:\n",
    "\n",
    "```python\n",
    "Do nothing = 0\n",
    "Fire right engine = 1\n",
    "Fire main engine = 2\n",
    "Fire left engine = 3\n",
    "```"
   ]
  },
  {
   "cell_type": "code",
   "execution_count": 13,
   "metadata": {
    "deletable": false
   },
   "outputs": [
    {
     "data": {
      "text/html": [
       "<style  type=\"text/css\" >\n",
       "    #T_6fde1e74_44c6_11ef_afcf_0242ac12001d th {\n",
       "          border: 1px solid grey;\n",
       "          text-align: center;\n",
       "    }    #T_6fde1e74_44c6_11ef_afcf_0242ac12001d tbody td {\n",
       "          border: 1px solid grey;\n",
       "          text-align: center;\n",
       "    }    #T_6fde1e74_44c6_11ef_afcf_0242ac12001drow0_col0 {\n",
       "            background-color :  grey;\n",
       "        }    #T_6fde1e74_44c6_11ef_afcf_0242ac12001drow1_col1 {\n",
       "            background-color :  grey;\n",
       "        }    #T_6fde1e74_44c6_11ef_afcf_0242ac12001drow1_col2 {\n",
       "            background-color :  grey;\n",
       "        }    #T_6fde1e74_44c6_11ef_afcf_0242ac12001drow1_col3 {\n",
       "            background-color :  grey;\n",
       "        }    #T_6fde1e74_44c6_11ef_afcf_0242ac12001drow1_col4 {\n",
       "            background-color :  grey;\n",
       "        }    #T_6fde1e74_44c6_11ef_afcf_0242ac12001drow1_col5 {\n",
       "            background-color :  grey;\n",
       "        }    #T_6fde1e74_44c6_11ef_afcf_0242ac12001drow1_col6 {\n",
       "            background-color :  grey;\n",
       "        }    #T_6fde1e74_44c6_11ef_afcf_0242ac12001drow1_col7 {\n",
       "            background-color :  grey;\n",
       "        }    #T_6fde1e74_44c6_11ef_afcf_0242ac12001drow1_col8 {\n",
       "            background-color :  grey;\n",
       "        }    #T_6fde1e74_44c6_11ef_afcf_0242ac12001drow1_col9 {\n",
       "            background-color :  grey;\n",
       "        }    #T_6fde1e74_44c6_11ef_afcf_0242ac12001drow1_col10 {\n",
       "            background-color :  grey;\n",
       "        }    #T_6fde1e74_44c6_11ef_afcf_0242ac12001drow1_col11 {\n",
       "            background-color :  grey;\n",
       "        }    #T_6fde1e74_44c6_11ef_afcf_0242ac12001drow2_col0 {\n",
       "            background-color :  grey;\n",
       "        }    #T_6fde1e74_44c6_11ef_afcf_0242ac12001drow3_col1 {\n",
       "            background-color :  grey;\n",
       "        }    #T_6fde1e74_44c6_11ef_afcf_0242ac12001drow3_col2 {\n",
       "            background-color :  grey;\n",
       "        }    #T_6fde1e74_44c6_11ef_afcf_0242ac12001drow3_col3 {\n",
       "            background-color :  grey;\n",
       "        }    #T_6fde1e74_44c6_11ef_afcf_0242ac12001drow3_col4 {\n",
       "            background-color :  grey;\n",
       "        }    #T_6fde1e74_44c6_11ef_afcf_0242ac12001drow3_col5 {\n",
       "            background-color :  grey;\n",
       "        }    #T_6fde1e74_44c6_11ef_afcf_0242ac12001drow3_col6 {\n",
       "            background-color :  grey;\n",
       "        }    #T_6fde1e74_44c6_11ef_afcf_0242ac12001drow3_col7 {\n",
       "            background-color :  grey;\n",
       "        }    #T_6fde1e74_44c6_11ef_afcf_0242ac12001drow3_col8 {\n",
       "            background-color :  grey;\n",
       "        }    #T_6fde1e74_44c6_11ef_afcf_0242ac12001drow3_col9 {\n",
       "            background-color :  grey;\n",
       "        }    #T_6fde1e74_44c6_11ef_afcf_0242ac12001drow3_col10 {\n",
       "            background-color :  grey;\n",
       "        }    #T_6fde1e74_44c6_11ef_afcf_0242ac12001drow3_col11 {\n",
       "            background-color :  grey;\n",
       "        }    #T_6fde1e74_44c6_11ef_afcf_0242ac12001drow4_col1 {\n",
       "            background-color :  grey;\n",
       "        }    #T_6fde1e74_44c6_11ef_afcf_0242ac12001drow4_col2 {\n",
       "            background-color :  grey;\n",
       "        }    #T_6fde1e74_44c6_11ef_afcf_0242ac12001drow4_col3 {\n",
       "            background-color :  grey;\n",
       "        }    #T_6fde1e74_44c6_11ef_afcf_0242ac12001drow4_col4 {\n",
       "            background-color :  grey;\n",
       "        }    #T_6fde1e74_44c6_11ef_afcf_0242ac12001drow4_col5 {\n",
       "            background-color :  grey;\n",
       "        }    #T_6fde1e74_44c6_11ef_afcf_0242ac12001drow4_col6 {\n",
       "            background-color :  grey;\n",
       "        }    #T_6fde1e74_44c6_11ef_afcf_0242ac12001drow4_col7 {\n",
       "            background-color :  grey;\n",
       "        }    #T_6fde1e74_44c6_11ef_afcf_0242ac12001drow4_col8 {\n",
       "            background-color :  grey;\n",
       "        }    #T_6fde1e74_44c6_11ef_afcf_0242ac12001drow4_col9 {\n",
       "            background-color :  grey;\n",
       "        }    #T_6fde1e74_44c6_11ef_afcf_0242ac12001drow4_col10 {\n",
       "            background-color :  grey;\n",
       "        }    #T_6fde1e74_44c6_11ef_afcf_0242ac12001drow4_col11 {\n",
       "            background-color :  grey;\n",
       "        }</style><table id=\"T_6fde1e74_44c6_11ef_afcf_0242ac12001d\" ><thead>    <tr>        <th class=\"blank level0\" ></th>        <th class=\"col_heading level0 col0\" ></th>        <th class=\"col_heading level0 col1\" colspan=8>State Vector</th>        <th class=\"col_heading level0 col9\" colspan=3>Derived from the State Vector (the closer to zero, the better)</th>    </tr>    <tr>        <th class=\"blank level1\" ></th>        <th class=\"col_heading level1 col0\" ></th>        <th class=\"col_heading level1 col1\" colspan=2>Coordinate</th>        <th class=\"col_heading level1 col3\" colspan=2>Velocity</th>        <th class=\"col_heading level1 col5\" colspan=2>Tilting</th>        <th class=\"col_heading level1 col7\" colspan=2>Ground contact</th>        <th class=\"col_heading level1 col9\" >Distance from landing pad</th>        <th class=\"col_heading level1 col10\" >Velocity</th>        <th class=\"col_heading level1 col11\" >Tilting Angle (absolute value)</th>    </tr>    <tr>        <th class=\"blank level2\" ></th>        <th class=\"col_heading level2 col0\" ></th>        <th class=\"col_heading level2 col1\" >X (Horizontal)</th>        <th class=\"col_heading level2 col2\" >Y (Vertical)</th>        <th class=\"col_heading level2 col3\" >X (Horizontal)</th>        <th class=\"col_heading level2 col4\" >Y (Vertical)</th>        <th class=\"col_heading level2 col5\" >Angle</th>        <th class=\"col_heading level2 col6\" >Angular Velocity</th>        <th class=\"col_heading level2 col7\" >Left Leg?</th>        <th class=\"col_heading level2 col8\" >Right Leg?</th>        <th class=\"col_heading level2 col9\" ></th>        <th class=\"col_heading level2 col10\" ></th>        <th class=\"col_heading level2 col11\" ></th>    </tr></thead><tbody>\n",
       "                <tr>\n",
       "                        <th id=\"T_6fde1e74_44c6_11ef_afcf_0242ac12001dlevel0_row0\" class=\"row_heading level0 row0\" >Current State</th>\n",
       "                        <td id=\"T_6fde1e74_44c6_11ef_afcf_0242ac12001drow0_col0\" class=\"data row0 col0\" ></td>\n",
       "                        <td id=\"T_6fde1e74_44c6_11ef_afcf_0242ac12001drow0_col1\" class=\"data row0 col1\" >0.009988</td>\n",
       "                        <td id=\"T_6fde1e74_44c6_11ef_afcf_0242ac12001drow0_col2\" class=\"data row0 col2\" >1.463837</td>\n",
       "                        <td id=\"T_6fde1e74_44c6_11ef_afcf_0242ac12001drow0_col3\" class=\"data row0 col3\" >0.206430</td>\n",
       "                        <td id=\"T_6fde1e74_44c6_11ef_afcf_0242ac12001drow0_col4\" class=\"data row0 col4\" >0.443006</td>\n",
       "                        <td id=\"T_6fde1e74_44c6_11ef_afcf_0242ac12001drow0_col5\" class=\"data row0 col5\" >-0.015320</td>\n",
       "                        <td id=\"T_6fde1e74_44c6_11ef_afcf_0242ac12001drow0_col6\" class=\"data row0 col6\" >-0.049415</td>\n",
       "                        <td id=\"T_6fde1e74_44c6_11ef_afcf_0242ac12001drow0_col7\" class=\"data row0 col7\" >False</td>\n",
       "                        <td id=\"T_6fde1e74_44c6_11ef_afcf_0242ac12001drow0_col8\" class=\"data row0 col8\" >False</td>\n",
       "                        <td id=\"T_6fde1e74_44c6_11ef_afcf_0242ac12001drow0_col9\" class=\"data row0 col9\" >1.463871</td>\n",
       "                        <td id=\"T_6fde1e74_44c6_11ef_afcf_0242ac12001drow0_col10\" class=\"data row0 col10\" >0.488741</td>\n",
       "                        <td id=\"T_6fde1e74_44c6_11ef_afcf_0242ac12001drow0_col11\" class=\"data row0 col11\" >0.015320</td>\n",
       "            </tr>\n",
       "            <tr>\n",
       "                        <th id=\"T_6fde1e74_44c6_11ef_afcf_0242ac12001dlevel0_row1\" class=\"row_heading level0 row1\" >Action</th>\n",
       "                        <td id=\"T_6fde1e74_44c6_11ef_afcf_0242ac12001drow1_col0\" class=\"data row1 col0\" >Do nothing</td>\n",
       "                        <td id=\"T_6fde1e74_44c6_11ef_afcf_0242ac12001drow1_col1\" class=\"data row1 col1\" ></td>\n",
       "                        <td id=\"T_6fde1e74_44c6_11ef_afcf_0242ac12001drow1_col2\" class=\"data row1 col2\" ></td>\n",
       "                        <td id=\"T_6fde1e74_44c6_11ef_afcf_0242ac12001drow1_col3\" class=\"data row1 col3\" ></td>\n",
       "                        <td id=\"T_6fde1e74_44c6_11ef_afcf_0242ac12001drow1_col4\" class=\"data row1 col4\" ></td>\n",
       "                        <td id=\"T_6fde1e74_44c6_11ef_afcf_0242ac12001drow1_col5\" class=\"data row1 col5\" ></td>\n",
       "                        <td id=\"T_6fde1e74_44c6_11ef_afcf_0242ac12001drow1_col6\" class=\"data row1 col6\" ></td>\n",
       "                        <td id=\"T_6fde1e74_44c6_11ef_afcf_0242ac12001drow1_col7\" class=\"data row1 col7\" ></td>\n",
       "                        <td id=\"T_6fde1e74_44c6_11ef_afcf_0242ac12001drow1_col8\" class=\"data row1 col8\" ></td>\n",
       "                        <td id=\"T_6fde1e74_44c6_11ef_afcf_0242ac12001drow1_col9\" class=\"data row1 col9\" ></td>\n",
       "                        <td id=\"T_6fde1e74_44c6_11ef_afcf_0242ac12001drow1_col10\" class=\"data row1 col10\" ></td>\n",
       "                        <td id=\"T_6fde1e74_44c6_11ef_afcf_0242ac12001drow1_col11\" class=\"data row1 col11\" ></td>\n",
       "            </tr>\n",
       "            <tr>\n",
       "                        <th id=\"T_6fde1e74_44c6_11ef_afcf_0242ac12001dlevel0_row2\" class=\"row_heading level0 row2\" >Next State</th>\n",
       "                        <td id=\"T_6fde1e74_44c6_11ef_afcf_0242ac12001drow2_col0\" class=\"data row2 col0\" ></td>\n",
       "                        <td id=\"T_6fde1e74_44c6_11ef_afcf_0242ac12001drow2_col1\" class=\"data row2 col1\" >0.012027</td>\n",
       "                        <td id=\"T_6fde1e74_44c6_11ef_afcf_0242ac12001drow2_col2\" class=\"data row2 col2\" >1.473205</td>\n",
       "                        <td id=\"T_6fde1e74_44c6_11ef_afcf_0242ac12001drow2_col3\" class=\"data row2 col3\" >0.206437</td>\n",
       "                        <td id=\"T_6fde1e74_44c6_11ef_afcf_0242ac12001drow2_col4\" class=\"data row2 col4\" >0.416341</td>\n",
       "                        <td id=\"T_6fde1e74_44c6_11ef_afcf_0242ac12001drow2_col5\" class=\"data row2 col5\" >-0.017791</td>\n",
       "                        <td id=\"T_6fde1e74_44c6_11ef_afcf_0242ac12001drow2_col6\" class=\"data row2 col6\" >-0.049418</td>\n",
       "                        <td id=\"T_6fde1e74_44c6_11ef_afcf_0242ac12001drow2_col7\" class=\"data row2 col7\" >False</td>\n",
       "                        <td id=\"T_6fde1e74_44c6_11ef_afcf_0242ac12001drow2_col8\" class=\"data row2 col8\" >False</td>\n",
       "                        <td id=\"T_6fde1e74_44c6_11ef_afcf_0242ac12001drow2_col9\" class=\"data row2 col9\" >1.473254</td>\n",
       "                        <td id=\"T_6fde1e74_44c6_11ef_afcf_0242ac12001drow2_col10\" class=\"data row2 col10\" >0.464710</td>\n",
       "                        <td id=\"T_6fde1e74_44c6_11ef_afcf_0242ac12001drow2_col11\" class=\"data row2 col11\" >0.017791</td>\n",
       "            </tr>\n",
       "            <tr>\n",
       "                        <th id=\"T_6fde1e74_44c6_11ef_afcf_0242ac12001dlevel0_row3\" class=\"row_heading level0 row3\" >Reward</th>\n",
       "                        <td id=\"T_6fde1e74_44c6_11ef_afcf_0242ac12001drow3_col0\" class=\"data row3 col0\" >1.217607</td>\n",
       "                        <td id=\"T_6fde1e74_44c6_11ef_afcf_0242ac12001drow3_col1\" class=\"data row3 col1\" ></td>\n",
       "                        <td id=\"T_6fde1e74_44c6_11ef_afcf_0242ac12001drow3_col2\" class=\"data row3 col2\" ></td>\n",
       "                        <td id=\"T_6fde1e74_44c6_11ef_afcf_0242ac12001drow3_col3\" class=\"data row3 col3\" ></td>\n",
       "                        <td id=\"T_6fde1e74_44c6_11ef_afcf_0242ac12001drow3_col4\" class=\"data row3 col4\" ></td>\n",
       "                        <td id=\"T_6fde1e74_44c6_11ef_afcf_0242ac12001drow3_col5\" class=\"data row3 col5\" ></td>\n",
       "                        <td id=\"T_6fde1e74_44c6_11ef_afcf_0242ac12001drow3_col6\" class=\"data row3 col6\" ></td>\n",
       "                        <td id=\"T_6fde1e74_44c6_11ef_afcf_0242ac12001drow3_col7\" class=\"data row3 col7\" ></td>\n",
       "                        <td id=\"T_6fde1e74_44c6_11ef_afcf_0242ac12001drow3_col8\" class=\"data row3 col8\" ></td>\n",
       "                        <td id=\"T_6fde1e74_44c6_11ef_afcf_0242ac12001drow3_col9\" class=\"data row3 col9\" ></td>\n",
       "                        <td id=\"T_6fde1e74_44c6_11ef_afcf_0242ac12001drow3_col10\" class=\"data row3 col10\" ></td>\n",
       "                        <td id=\"T_6fde1e74_44c6_11ef_afcf_0242ac12001drow3_col11\" class=\"data row3 col11\" ></td>\n",
       "            </tr>\n",
       "            <tr>\n",
       "                        <th id=\"T_6fde1e74_44c6_11ef_afcf_0242ac12001dlevel0_row4\" class=\"row_heading level0 row4\" >Episode Terminated</th>\n",
       "                        <td id=\"T_6fde1e74_44c6_11ef_afcf_0242ac12001drow4_col0\" class=\"data row4 col0\" >False</td>\n",
       "                        <td id=\"T_6fde1e74_44c6_11ef_afcf_0242ac12001drow4_col1\" class=\"data row4 col1\" ></td>\n",
       "                        <td id=\"T_6fde1e74_44c6_11ef_afcf_0242ac12001drow4_col2\" class=\"data row4 col2\" ></td>\n",
       "                        <td id=\"T_6fde1e74_44c6_11ef_afcf_0242ac12001drow4_col3\" class=\"data row4 col3\" ></td>\n",
       "                        <td id=\"T_6fde1e74_44c6_11ef_afcf_0242ac12001drow4_col4\" class=\"data row4 col4\" ></td>\n",
       "                        <td id=\"T_6fde1e74_44c6_11ef_afcf_0242ac12001drow4_col5\" class=\"data row4 col5\" ></td>\n",
       "                        <td id=\"T_6fde1e74_44c6_11ef_afcf_0242ac12001drow4_col6\" class=\"data row4 col6\" ></td>\n",
       "                        <td id=\"T_6fde1e74_44c6_11ef_afcf_0242ac12001drow4_col7\" class=\"data row4 col7\" ></td>\n",
       "                        <td id=\"T_6fde1e74_44c6_11ef_afcf_0242ac12001drow4_col8\" class=\"data row4 col8\" ></td>\n",
       "                        <td id=\"T_6fde1e74_44c6_11ef_afcf_0242ac12001drow4_col9\" class=\"data row4 col9\" ></td>\n",
       "                        <td id=\"T_6fde1e74_44c6_11ef_afcf_0242ac12001drow4_col10\" class=\"data row4 col10\" ></td>\n",
       "                        <td id=\"T_6fde1e74_44c6_11ef_afcf_0242ac12001drow4_col11\" class=\"data row4 col11\" ></td>\n",
       "            </tr>\n",
       "    </tbody></table>"
      ],
      "text/plain": [
       "<pandas.io.formats.style.Styler at 0x71d3b18bd3d0>"
      ]
     },
     "metadata": {},
     "output_type": "display_data"
    }
   ],
   "source": [
    "# Select an action\n",
    "action = 0\n",
    "\n",
    "# Run a single time step of the environment's dynamics with the given action.\n",
    "next_state, reward, done, _ = env.step(action)\n",
    "\n",
    "# Display table with values.\n",
    "utils.display_table(current_state, action, next_state, reward, done)\n",
    "\n",
    "# Replace the `current_state` with the state after the action is taken\n",
    "current_state = next_state"
   ]
  },
  {
   "cell_type": "markdown",
   "metadata": {},
   "source": [
    "In practice, when we train the agent we use a loop to allow the agent to take many consecutive actions during an episode."
   ]
  },
  {
   "cell_type": "markdown",
   "metadata": {},
   "source": [
    "<a name=\"6\"></a>\n",
    "## 6 - Deep Q-Learning\n",
    "\n",
    "In cases where both the state and action space are discrete we can estimate the action-value function iteratively by using the Bellman equation:\n",
    "\n",
    "$$\n",
    "Q_{i+1}(s,a) = R + \\gamma \\max_{a'}Q_i(s',a')\n",
    "$$\n",
    "\n",
    "This iterative method converges to the optimal action-value function $Q^*(s,a)$ as $i\\to\\infty$. This means that the agent just needs to gradually explore the state-action space and keep updating the estimate of $Q(s,a)$ until it converges to the optimal action-value function $Q^*(s,a)$. However, in cases where the state space is continuous it becomes practically impossible to explore the entire state-action space. Consequently, this also makes it practically impossible to gradually estimate $Q(s,a)$ until it converges to $Q^*(s,a)$.\n",
    "\n",
    "In the Deep $Q$-Learning, we solve this problem by using a neural network to estimate the action-value function $Q(s,a)\\approx Q^*(s,a)$. We call this neural network a $Q$-Network and it can be trained by adjusting its weights at each iteration to minimize the mean-squared error in the Bellman equation.\n",
    "\n",
    "Unfortunately, using neural networks in reinforcement learning to estimate action-value functions has proven to be highly unstable. Luckily, there's a couple of techniques that can be employed to avoid instabilities. These techniques consist of using a ***Target Network*** and ***Experience Replay***. We will explore these two techniques in the following sections."
   ]
  },
  {
   "cell_type": "markdown",
   "metadata": {},
   "source": [
    "<a name=\"6.1\"></a>\n",
    "### 6.1 Target Network\n",
    "\n",
    "We can train the $Q$-Network by adjusting it's weights at each iteration to minimize the mean-squared error in the Bellman equation, where the target values are given by:\n",
    "\n",
    "$$\n",
    "y = R + \\gamma \\max_{a'}Q(s',a';w)\n",
    "$$\n",
    "\n",
    "where $w$ are the weights of the $Q$-Network. This means that we are adjusting the weights $w$ at each iteration to minimize the following error:\n",
    "\n",
    "$$\n",
    "\\overbrace{\\underbrace{R + \\gamma \\max_{a'}Q(s',a'; w)}_{\\rm {y~target}} - Q(s,a;w)}^{\\rm {Error}}\n",
    "$$\n",
    "\n",
    "Notice that this forms a problem because the $y$ target is changing on every iteration. Having a constantly moving target can lead to oscillations and instabilities. To avoid this, we can create\n",
    "a separate neural network for generating the $y$ targets. We call this separate neural network the **target $\\hat Q$-Network** and it will have the same architecture as the original $Q$-Network. By using the target $\\hat Q$-Network, the above error becomes:\n",
    "\n",
    "$$\n",
    "\\overbrace{\\underbrace{R + \\gamma \\max_{a'}\\hat{Q}(s',a'; w^-)}_{\\rm {y~target}} - Q(s,a;w)}^{\\rm {Error}}\n",
    "$$\n",
    "\n",
    "where $w^-$ and $w$ are the weights of the target $\\hat Q$-Network and $Q$-Network, respectively.\n",
    "\n",
    "In practice, we will use the following algorithm: every $C$ time steps we will use the $\\hat Q$-Network to generate the $y$ targets and update the weights of the target $\\hat Q$-Network using the weights of the $Q$-Network. We will update the weights $w^-$ of the the target $\\hat Q$-Network using a **soft update**. This means that we will update the weights $w^-$ using the following rule:\n",
    " \n",
    "$$\n",
    "w^-\\leftarrow \\tau w + (1 - \\tau) w^-\n",
    "$$\n",
    "\n",
    "where $\\tau\\ll 1$. By using the soft update, we are ensuring that the target values, $y$, change slowly, which greatly improves the stability of our learning algorithm."
   ]
  },
  {
   "cell_type": "markdown",
   "metadata": {},
   "source": [
    "<a name=\"ex01\"></a>\n",
    "### Exercise 1\n",
    "\n",
    "In this exercise you will create the $Q$ and target $\\hat Q$ networks and set the optimizer. Remember that the Deep $Q$-Network (DQN) is a neural network that approximates the action-value function $Q(s,a)\\approx Q^*(s,a)$. It does this by learning how to map states to $Q$ values.\n",
    "\n",
    "To solve the Lunar Lander environment, we are going to employ a DQN with the following architecture:\n",
    "\n",
    "* An `Input` layer that takes `state_size` as input.\n",
    "\n",
    "* A `Dense` layer with `64` units and a `relu` activation function.\n",
    "\n",
    "* A `Dense` layer with `64` units and a `relu` activation function.\n",
    "\n",
    "* A `Dense` layer with `num_actions` units and a `linear` activation function. This will be the output layer of our network.\n",
    "\n",
    "\n",
    "In the cell below you should create the $Q$-Network and the target $\\hat Q$-Network using the model architecture described above. Remember that both the $Q$-Network and the target $\\hat Q$-Network have the same architecture.\n",
    "\n",
    "Lastly, you should set `Adam` as the optimizer with a learning rate equal to `ALPHA`. Recall that `ALPHA` was defined in the [Hyperparameters](#2) section. We should note that for this exercise you should use the already imported packages:\n",
    "```python\n",
    "from tensorflow.keras.layers import Dense, Input\n",
    "from tensorflow.keras.optimizers import Adam\n",
    "```"
   ]
  },
  {
   "cell_type": "code",
   "execution_count": 18,
   "metadata": {
    "deletable": false
   },
   "outputs": [],
   "source": [
    "# UNQ_C1\n",
    "# GRADED CELL\n",
    "from tensorflow.keras.layers import Dense, Input\n",
    "from tensorflow.keras.optimizers import Adam\n",
    "# Create the Q-Network\n",
    "q_network = Sequential([\n",
    "    ### START CODE HERE ###\n",
    "    Input(state_size),\n",
    "    Dense(64, activation=\"relu\"),\n",
    "    Dense(64, activation=\"relu\"),\n",
    "    Dense(num_actions, activation=\"linear\")\n",
    "    ### END CODE HERE ### \n",
    "    ])\n",
    "\n",
    "# Create the target Q^-Network\n",
    "target_q_network = Sequential([\n",
    "    ### START CODE HERE ###\n",
    "    Input(state_size),\n",
    "    Dense(64, input_dim = state_size, activation=\"relu\"),\n",
    "    Dense(64, activation=\"relu\"),\n",
    "    Dense(num_actions, activation=\"linear\")\n",
    "    ### END CODE HERE ###\n",
    "    ])\n",
    "\n",
    "### START CODE HERE ### \n",
    "optimizer = Adam(learning_rate=ALPHA)\n",
    "### END CODE HERE ###"
   ]
  },
  {
   "cell_type": "code",
   "execution_count": 19,
   "metadata": {
    "deletable": false,
    "editable": false
   },
   "outputs": [
    {
     "name": "stdout",
     "output_type": "stream",
     "text": [
      "\u001b[92mAll tests passed!\n",
      "\u001b[92mAll tests passed!\n",
      "\u001b[92mAll tests passed!\n"
     ]
    }
   ],
   "source": [
    "# UNIT TEST\n",
    "from public_tests import *\n",
    "\n",
    "test_network(q_network)\n",
    "test_network(target_q_network)\n",
    "test_optimizer(optimizer, ALPHA) "
   ]
  },
  {
   "cell_type": "markdown",
   "metadata": {},
   "source": [
    "<details>\n",
    "  <summary><font size=\"3\" color=\"darkgreen\"><b>Click for hints</b></font></summary>\n",
    "    \n",
    "```python\n",
    "# Create the Q-Network\n",
    "q_network = Sequential([\n",
    "    Input(shape=state_size),                      \n",
    "    Dense(units=64, activation='relu'),            \n",
    "    Dense(units=64, activation='relu'),            \n",
    "    Dense(units=num_actions, activation='linear'),\n",
    "    ])\n",
    "\n",
    "# Create the target Q^-Network\n",
    "target_q_network = Sequential([\n",
    "    Input(shape=state_size),                       \n",
    "    Dense(units=64, activation='relu'),            \n",
    "    Dense(units=64, activation='relu'),            \n",
    "    Dense(units=num_actions, activation='linear'), \n",
    "    ])\n",
    "\n",
    "optimizer = Adam(learning_rate=ALPHA)                                  \n",
    "``` "
   ]
  },
  {
   "cell_type": "markdown",
   "metadata": {},
   "source": [
    "<a name=\"6.2\"></a>\n",
    "### 6.2 Experience Replay\n",
    "\n",
    "When an agent interacts with the environment, the states, actions, and rewards the agent experiences are sequential by nature. If the agent tries to learn from these consecutive experiences it can run into problems due to the strong correlations between them. To avoid this, we employ a technique known as **Experience Replay** to generate uncorrelated experiences for training our agent. Experience replay consists of storing the agent's experiences (i.e the states, actions, and rewards the agent receives) in a memory buffer and then sampling a random mini-batch of experiences from the buffer to do the learning. The experience tuples $(S_t, A_t, R_t, S_{t+1})$ will be added to the memory buffer at each time step as the agent interacts with the environment.\n",
    "\n",
    "For convenience, we will store the experiences as named tuples."
   ]
  },
  {
   "cell_type": "code",
   "execution_count": 20,
   "metadata": {
    "deletable": false,
    "editable": false
   },
   "outputs": [],
   "source": [
    "# Store experiences as named tuples\n",
    "experience = namedtuple(\"Experience\", field_names=[\"state\", \"action\", \"reward\", \"next_state\", \"done\"])"
   ]
  },
  {
   "cell_type": "markdown",
   "metadata": {},
   "source": [
    "By using experience replay we avoid problematic correlations, oscillations and instabilities. In addition, experience replay also allows the agent to potentially use the same experience in multiple weight updates, which increases data efficiency."
   ]
  },
  {
   "cell_type": "markdown",
   "metadata": {},
   "source": [
    "<a name=\"7\"></a>\n",
    "## 7 - Deep Q-Learning Algorithm with Experience Replay\n",
    "\n",
    "Now that we know all the techniques that we are going to use, we can put them together to arrive at the Deep Q-Learning Algorithm With Experience Replay.\n",
    "<br>\n",
    "<br>\n",
    "<figure>\n",
    "  <img src = \"images/deep_q_algorithm.png\" width = 90% style = \"border: thin silver solid; padding: 0px\">\n",
    "      <figcaption style = \"text-align: center; font-style: italic\">Fig 3. Deep Q-Learning with Experience Replay.</figcaption>\n",
    "</figure>"
   ]
  },
  {
   "cell_type": "markdown",
   "metadata": {},
   "source": [
    "<a name=\"ex02\"></a>\n",
    "### Exercise 2\n",
    "\n",
    "In this exercise you will implement line ***12*** of the algorithm outlined in *Fig 3* above and you will also compute the loss between the $y$ targets and the $Q(s,a)$ values. In the cell below, complete the `compute_loss` function by setting the $y$ targets equal to:\n",
    "\n",
    "$$\n",
    "\\begin{equation}\n",
    "    y_j =\n",
    "    \\begin{cases}\n",
    "      R_j & \\text{if episode terminates at step  } j+1\\\\\n",
    "      R_j + \\gamma \\max_{a'}\\hat{Q}(s_{j+1},a') & \\text{otherwise}\\\\\n",
    "    \\end{cases}       \n",
    "\\end{equation}\n",
    "$$\n",
    "\n",
    "Here are a couple of things to note:\n",
    "\n",
    "* The `compute_loss` function takes in a mini-batch of experience tuples. This mini-batch of experience tuples is unpacked to extract the `states`, `actions`, `rewards`, `next_states`, and `done_vals`. You should keep in mind that these variables are *TensorFlow Tensors* whose size will depend on the mini-batch size. For example, if the mini-batch size is `64` then both `rewards` and `done_vals` will be TensorFlow Tensors with `64` elements.\n",
    "\n",
    "\n",
    "* Using `if/else` statements to set the $y$ targets will not work when the variables are tensors with many elements. However, notice that you can use the `done_vals` to implement the above in a single line of code. To do this, recall that the `done` variable is a Boolean variable that takes the value `True` when an episode terminates at step $j+1$ and it is `False` otherwise. Taking into account that a Boolean value of `True` has the numerical value of `1` and a Boolean value of `False` has the numerical value of `0`, you can use the factor `(1 - done_vals)` to implement the above in a single line of code. Here's a hint: notice that `(1 - done_vals)` has a value of `0` when `done_vals` is `True` and a value of `1` when `done_vals` is `False`. \n",
    "\n",
    "Lastly, compute the loss by calculating the Mean-Squared Error (`MSE`) between the `y_targets` and the `q_values`. To calculate the mean-squared error you should use the already imported package `MSE`:\n",
    "```python\n",
    "from tensorflow.keras.losses import MSE\n",
    "```"
   ]
  },
  {
   "cell_type": "code",
   "execution_count": 27,
   "metadata": {
    "deletable": false
   },
   "outputs": [],
   "source": [
    "# UNQ_C2\n",
    "# GRADED FUNCTION: calculate_loss\n",
    "from tensorflow.keras.losses import MSE\n",
    "\n",
    "def compute_loss(experiences, gamma, q_network, target_q_network):\n",
    "    \"\"\" \n",
    "    Calculates the loss.\n",
    "    \n",
    "    Args:\n",
    "      experiences: (tuple) tuple of [\"state\", \"action\", \"reward\", \"next_state\", \"done\"] namedtuples\n",
    "      gamma: (float) The discount factor.\n",
    "      q_network: (tf.keras.Sequential) Keras model for predicting the q_values\n",
    "      target_q_network: (tf.keras.Sequential) Keras model for predicting the targets\n",
    "          \n",
    "    Returns:\n",
    "      loss: (TensorFlow Tensor(shape=(0,), dtype=int32)) the Mean-Squared Error between\n",
    "            the y targets and the Q(s,a) values.\n",
    "    \"\"\"\n",
    "\n",
    "    # Unpack the mini-batch of experience tuples\n",
    "    states, actions, rewards, next_states, done_vals = experiences\n",
    "    \n",
    "    # Compute max Q^(s,a)\n",
    "    max_qsa = tf.reduce_max(target_q_network(next_states), axis=-1)\n",
    "    \n",
    "    # Set y = R if episode terminates, otherwise set y = R + γ max Q^(s,a).\n",
    "    ### START CODE HERE ### \n",
    "    y_targets = experiences[2] + ( gamma * max_qsa * (1 - done_vals) )\n",
    "    ### END CODE HERE ###\n",
    "    \n",
    "    # Get the q_values and reshape to match y_targets\n",
    "    q_values = q_network(states)\n",
    "    q_values = tf.gather_nd(q_values, tf.stack([tf.range(q_values.shape[0]),\n",
    "                                                tf.cast(actions, tf.int32)], axis=1))\n",
    "        \n",
    "    # Compute the loss\n",
    "    ### START CODE HERE ### \n",
    "    loss = MSE(y_targets, q_values)\n",
    "    ### END CODE HERE ### \n",
    "    \n",
    "    return loss"
   ]
  },
  {
   "cell_type": "code",
   "execution_count": 28,
   "metadata": {
    "deletable": false,
    "editable": false
   },
   "outputs": [
    {
     "name": "stdout",
     "output_type": "stream",
     "text": [
      "\u001b[92mAll tests passed!\n"
     ]
    }
   ],
   "source": [
    "# UNIT TEST    \n",
    "test_compute_loss(compute_loss)"
   ]
  },
  {
   "cell_type": "markdown",
   "metadata": {},
   "source": [
    "<details>\n",
    "  <summary><font size=\"3\" color=\"darkgreen\"><b>Click for hints</b></font></summary>\n",
    "    \n",
    "```python\n",
    "def compute_loss(experiences, gamma, q_network, target_q_network):\n",
    "    \"\"\" \n",
    "    Calculates the loss.\n",
    "    \n",
    "    Args:\n",
    "      experiences: (tuple) tuple of [\"state\", \"action\", \"reward\", \"next_state\", \"done\"] namedtuples\n",
    "      gamma: (float) The discount factor.\n",
    "      q_network: (tf.keras.Sequential) Keras model for predicting the q_values\n",
    "      target_q_network: (tf.keras.Sequential) Keras model for predicting the targets\n",
    "          \n",
    "    Returns:\n",
    "      loss: (TensorFlow Tensor(shape=(0,), dtype=int32)) the Mean-Squared Error between\n",
    "            the y targets and the Q(s,a) values.\n",
    "    \"\"\"\n",
    "\n",
    "    \n",
    "    # Unpack the mini-batch of experience tuples\n",
    "    states, actions, rewards, next_states, done_vals = experiences\n",
    "    \n",
    "    # Compute max Q^(s,a)\n",
    "    max_qsa = tf.reduce_max(target_q_network(next_states), axis=-1)\n",
    "    \n",
    "    # Set y = R if episode terminates, otherwise set y = R + γ max Q^(s,a).\n",
    "    y_targets = rewards + (gamma * max_qsa * (1 - done_vals))\n",
    "    \n",
    "    # Get the q_values\n",
    "    q_values = q_network(states)\n",
    "    q_values = tf.gather_nd(q_values, tf.stack([tf.range(q_values.shape[0]),\n",
    "                                                tf.cast(actions, tf.int32)], axis=1))\n",
    "    \n",
    "    # Calculate the loss\n",
    "    loss = MSE(y_targets, q_values)\n",
    "    \n",
    "    return loss\n",
    "\n",
    "``` \n",
    "    "
   ]
  },
  {
   "cell_type": "markdown",
   "metadata": {},
   "source": [
    "<a name=\"8\"></a>\n",
    "## 8 - Update the Network Weights\n",
    "\n",
    "We will use the `agent_learn` function below to implement lines ***12 -14*** of the algorithm outlined in [Fig 3](#7). The `agent_learn` function will update the weights of the $Q$ and target $\\hat Q$ networks using a custom training loop. Because we are using a custom training loop we need to retrieve the gradients via a `tf.GradientTape` instance, and then call `optimizer.apply_gradients()` to update the weights of our $Q$-Network. Note that we are also using the `@tf.function` decorator to increase performance. Without this decorator our training will take twice as long. If you would like to know more about how to increase performance with `@tf.function` take a look at the [TensorFlow documentation](https://www.tensorflow.org/guide/function).\n",
    "\n",
    "The last line of this function updates the weights of the target $\\hat Q$-Network using a [soft update](#6.1). If you want to know how this is implemented in code we encourage you to take a look at the `utils.update_target_network` function in the `utils` module."
   ]
  },
  {
   "cell_type": "code",
   "execution_count": 29,
   "metadata": {
    "deletable": false,
    "editable": false
   },
   "outputs": [],
   "source": [
    "@tf.function\n",
    "def agent_learn(experiences, gamma):\n",
    "    \"\"\"\n",
    "    Updates the weights of the Q networks.\n",
    "    \n",
    "    Args:\n",
    "      experiences: (tuple) tuple of [\"state\", \"action\", \"reward\", \"next_state\", \"done\"] namedtuples\n",
    "      gamma: (float) The discount factor.\n",
    "    \n",
    "    \"\"\"\n",
    "    \n",
    "    # Calculate the loss\n",
    "    with tf.GradientTape() as tape:\n",
    "        loss = compute_loss(experiences, gamma, q_network, target_q_network)\n",
    "\n",
    "    # Get the gradients of the loss with respect to the weights.\n",
    "    gradients = tape.gradient(loss, q_network.trainable_variables)\n",
    "    \n",
    "    # Update the weights of the q_network.\n",
    "    optimizer.apply_gradients(zip(gradients, q_network.trainable_variables))\n",
    "\n",
    "    # update the weights of target q_network\n",
    "    utils.update_target_network(q_network, target_q_network)"
   ]
  },
  {
   "cell_type": "markdown",
   "metadata": {},
   "source": [
    "<a name=\"9\"></a>\n",
    "## 9 - Train the Agent\n",
    "\n",
    "We are now ready to train our agent to solve the Lunar Lander environment. In the cell below we will implement the algorithm in [Fig 3](#7) line by line (please note that we have included the same algorithm below for easy reference. This will prevent you from scrolling up and down the notebook):\n",
    "\n",
    "* **Line 1**: We initialize the `memory_buffer` with a capacity of $N =$ `MEMORY_SIZE`. Notice that we are using a `deque` as the data structure for our `memory_buffer`.\n",
    "\n",
    "\n",
    "* **Line 2**: We skip this line since we already initialized the `q_network` in [Exercise 1](#ex01).\n",
    "\n",
    "\n",
    "* **Line 3**: We initialize the `target_q_network` by setting its weights to be equal to those of the `q_network`.\n",
    "\n",
    "\n",
    "* **Line 4**: We start the outer loop. Notice that we have set $M =$ `num_episodes = 2000`. This number is reasonable because the agent should be able to solve the Lunar Lander environment in less than `2000` episodes using this notebook's default parameters.\n",
    "\n",
    "\n",
    "* **Line 5**: We use the `.reset()` method to reset the environment to the initial state and get the initial state.\n",
    "\n",
    "\n",
    "* **Line 6**: We start the inner loop. Notice that we have set $T =$ `max_num_timesteps = 1000`. This means that the episode will automatically terminate if the episode hasn't terminated after `1000` time steps.\n",
    "\n",
    "\n",
    "* **Line 7**: The agent observes the current `state` and chooses an `action` using an $\\epsilon$-greedy policy. Our agent starts out using a value of $\\epsilon =$ `epsilon = 1` which yields an $\\epsilon$-greedy policy that is equivalent to the equiprobable random policy. This means that at the beginning of our training, the agent is just going to take random actions regardless of the observed `state`. As training progresses we will decrease the value of $\\epsilon$ slowly towards a minimum value using a given $\\epsilon$-decay rate. We want this minimum value to be close to zero because a value of $\\epsilon = 0$ will yield an $\\epsilon$-greedy policy that is equivalent to the greedy policy. This means that towards the end of training, the agent will lean towards selecting the `action` that it believes (based on its past experiences) will maximize $Q(s,a)$. We will set the minimum $\\epsilon$ value to be `0.01` and not exactly 0 because we always want to keep a little bit of exploration during training. If you want to know how this is implemented in code we encourage you to take a look at the `utils.get_action` function in the `utils` module.\n",
    "\n",
    "\n",
    "* **Line 8**: We use the `.step()` method to take the given `action` in the environment and get the `reward` and the `next_state`. \n",
    "\n",
    "\n",
    "* **Line 9**: We store the `experience(state, action, reward, next_state, done)` tuple in our `memory_buffer`. Notice that we also store the `done` variable so that we can keep track of when an episode terminates. This allowed us to set the $y$ targets in [Exercise 2](#ex02).\n",
    "\n",
    "\n",
    "* **Line 10**: We check if the conditions are met to perform a learning update. We do this by using our custom `utils.check_update_conditions` function. This function checks if $C =$ `NUM_STEPS_FOR_UPDATE = 4` time steps have occured and if our `memory_buffer` has enough experience tuples to fill a mini-batch. For example, if the mini-batch size is `64`, then our `memory_buffer` should have more than `64` experience tuples in order to pass the latter condition. If the conditions are met, then the `utils.check_update_conditions` function will return a value of `True`, otherwise it will return a value of `False`.\n",
    "\n",
    "\n",
    "* **Lines 11 - 14**: If the `update` variable is `True` then we perform a learning update. The learning update consists of sampling a random mini-batch of experience tuples from our `memory_buffer`, setting the $y$ targets, performing gradient descent, and updating the weights of the networks. We will use the `agent_learn` function we defined in [Section 8](#8) to perform the latter 3.\n",
    "\n",
    "\n",
    "* **Line 15**: At the end of each iteration of the inner loop we set `next_state` as our new `state` so that the loop can start again from this new state. In addition, we check if the episode has reached a terminal state (i.e we check if `done = True`). If a terminal state has been reached, then we break out of the inner loop.\n",
    "\n",
    "\n",
    "* **Line 16**: At the end of each iteration of the outer loop we update the value of $\\epsilon$, and check if the environment has been solved. We consider that the environment has been solved if the agent receives an average of `200` points in the last `100` episodes. If the environment has not been solved we continue the outer loop and start a new episode.\n",
    "\n",
    "Finally, we wanted to note that we have included some extra variables to keep track of the total number of points the agent received in each episode. This will help us determine if the agent has solved the environment and it will also allow us to see how our agent performed during training. We also use the `time` module to measure how long the training takes. \n",
    "\n",
    "<br>\n",
    "<br>\n",
    "<figure>\n",
    "  <img src = \"images/deep_q_algorithm.png\" width = 90% style = \"border: thin silver solid; padding: 0px\">\n",
    "      <figcaption style = \"text-align: center; font-style: italic\">Fig 4. Deep Q-Learning with Experience Replay.</figcaption>\n",
    "</figure>\n",
    "<br>\n",
    "\n",
    "**Note:** With this notebook's default parameters, the following cell takes between 10 to 15 minutes to run. "
   ]
  },
  {
   "cell_type": "code",
   "execution_count": 30,
   "metadata": {
    "deletable": false,
    "editable": false
   },
   "outputs": [
    {
     "name": "stdout",
     "output_type": "stream",
     "text": [
      "Episode 100 | Total point average of the last 100 episodes: -153.69\n",
      "Episode 200 | Total point average of the last 100 episodes: -90.016\n",
      "Episode 300 | Total point average of the last 100 episodes: -59.37\n",
      "Episode 400 | Total point average of the last 100 episodes: -15.30\n",
      "Episode 500 | Total point average of the last 100 episodes: 62.048\n",
      "Episode 590 | Total point average of the last 100 episodes: 202.40\n",
      "\n",
      "Environment solved in 590 episodes!\n",
      "\n",
      "Total Runtime: 823.41 s (13.72 min)\n"
     ]
    }
   ],
   "source": [
    "start = time.time()\n",
    "\n",
    "num_episodes = 2000\n",
    "max_num_timesteps = 1000\n",
    "\n",
    "total_point_history = []\n",
    "\n",
    "num_p_av = 100    # number of total points to use for averaging\n",
    "epsilon = 1.0     # initial ε value for ε-greedy policy\n",
    "\n",
    "# Create a memory buffer D with capacity N\n",
    "memory_buffer = deque(maxlen=MEMORY_SIZE)\n",
    "\n",
    "# Set the target network weights equal to the Q-Network weights\n",
    "target_q_network.set_weights(q_network.get_weights())\n",
    "\n",
    "for i in range(num_episodes):\n",
    "    \n",
    "    # Reset the environment to the initial state and get the initial state\n",
    "    state = env.reset()\n",
    "    total_points = 0\n",
    "    \n",
    "    for t in range(max_num_timesteps):\n",
    "        \n",
    "        # From the current state S choose an action A using an ε-greedy policy\n",
    "        state_qn = np.expand_dims(state, axis=0)  # state needs to be the right shape for the q_network\n",
    "        q_values = q_network(state_qn)\n",
    "        action = utils.get_action(q_values, epsilon)\n",
    "        \n",
    "        # Take action A and receive reward R and the next state S'\n",
    "        next_state, reward, done, _ = env.step(action)\n",
    "        \n",
    "        # Store experience tuple (S,A,R,S') in the memory buffer.\n",
    "        # We store the done variable as well for convenience.\n",
    "        memory_buffer.append(experience(state, action, reward, next_state, done))\n",
    "        \n",
    "        # Only update the network every NUM_STEPS_FOR_UPDATE time steps.\n",
    "        update = utils.check_update_conditions(t, NUM_STEPS_FOR_UPDATE, memory_buffer)\n",
    "        \n",
    "        if update:\n",
    "            # Sample random mini-batch of experience tuples (S,A,R,S') from D\n",
    "            experiences = utils.get_experiences(memory_buffer)\n",
    "            \n",
    "            # Set the y targets, perform a gradient descent step,\n",
    "            # and update the network weights.\n",
    "            agent_learn(experiences, GAMMA)\n",
    "        \n",
    "        state = next_state.copy()\n",
    "        total_points += reward\n",
    "        \n",
    "        if done:\n",
    "            break\n",
    "            \n",
    "    total_point_history.append(total_points)\n",
    "    av_latest_points = np.mean(total_point_history[-num_p_av:])\n",
    "    \n",
    "    # Update the ε value\n",
    "    epsilon = utils.get_new_eps(epsilon)\n",
    "\n",
    "    print(f\"\\rEpisode {i+1} | Total point average of the last {num_p_av} episodes: {av_latest_points:.2f}\", end=\"\")\n",
    "\n",
    "    if (i+1) % num_p_av == 0:\n",
    "        print(f\"\\rEpisode {i+1} | Total point average of the last {num_p_av} episodes: {av_latest_points:.2f}\")\n",
    "\n",
    "    # We will consider that the environment is solved if we get an\n",
    "    # average of 200 points in the last 100 episodes.\n",
    "    if av_latest_points >= 200.0:\n",
    "        print(f\"\\n\\nEnvironment solved in {i+1} episodes!\")\n",
    "        q_network.save('lunar_lander_model.h5')\n",
    "        break\n",
    "        \n",
    "tot_time = time.time() - start\n",
    "\n",
    "print(f\"\\nTotal Runtime: {tot_time:.2f} s ({(tot_time/60):.2f} min)\")"
   ]
  },
  {
   "cell_type": "markdown",
   "metadata": {},
   "source": [
    "We can plot the total point history along with the moving average to see how our agent improved during training. If you want to know about the different plotting options available in the `utils.plot_history` function we encourage you to take a look at the `utils` module."
   ]
  },
  {
   "cell_type": "code",
   "execution_count": 31,
   "metadata": {
    "deletable": false,
    "editable": false,
    "id": "E_EUXxurfe8m",
    "scrolled": false
   },
   "outputs": [
    {
     "data": {
      "image/png": "[encoded data removed]",
      "text/plain": [
       "<Figure size 720x504 with 1 Axes>"
      ]
     },
     "metadata": {},
     "output_type": "display_data"
    }
   ],
   "source": [
    "# Plot the total point history along with the moving average\n",
    "utils.plot_history(total_point_history)"
   ]
  },
  {
   "cell_type": "markdown",
   "metadata": {
    "id": "c_xwgaX5MnYt"
   },
   "source": [
    "<a name=\"10\"></a>\n",
    "## 10 - See the Trained Agent In Action\n",
    "\n",
    "Now that we have trained our agent, we can see it in action. We will use the `utils.create_video` function to create a video of our agent interacting with the environment using the trained $Q$-Network. The `utils.create_video` function uses the `imageio` library to create the video. This library produces some warnings that can be distracting, so, to suppress these warnings we run the code below."
   ]
  },
  {
   "cell_type": "code",
   "execution_count": 32,
   "metadata": {
    "deletable": false,
    "editable": false
   },
   "outputs": [],
   "source": [
    "# Suppress warnings from imageio\n",
    "import logging\n",
    "logging.getLogger().setLevel(logging.ERROR)"
   ]
  },
  {
   "cell_type": "markdown",
   "metadata": {},
   "source": [
    "In the cell below we create a video of our agent interacting with the Lunar Lander environment using the trained `q_network`. The video is saved to the `videos` folder with the given `filename`. We use the `utils.embed_mp4` function to embed the video in the Jupyter Notebook so that we can see it here directly without having to download it.\n",
    "\n",
    "We should note that since the lunar lander starts with a random initial force applied to its center of mass, every time you run the cell below you will see a different video. If the agent was trained properly, it should be able to land the lunar lander in the landing pad every time, regardless of the initial force applied to its center of mass."
   ]
  },
  {
   "cell_type": "code",
   "execution_count": 33,
   "metadata": {
    "deletable": false,
    "editable": false,
    "id": "3Ttb_zLeJKiG"
   },
   "outputs": [
    {
     "data": {
      "text/html": [
       "\n",
       "    <video width=\"840\" height=\"480\" controls>\n",
       "    <source src=\"data:video/mp4;base64,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\" type=\"video/mp4\">\n",
       "    Your browser does not support the video tag.\n",
       "    </video>"
      ],
      "text/plain": [
       "<IPython.core.display.HTML object>"
      ]
     },
     "execution_count": 33,
     "metadata": {},
     "output_type": "execute_result"
    }
   ],
   "source": [
    "filename = \"./videos/lunar_lander.mp4\"\n",
    "\n",
    "utils.create_video(filename, env, q_network)\n",
    "utils.embed_mp4(filename)"
   ]
  },
  {
   "cell_type": "markdown",
   "metadata": {},
   "source": [
    "<a name=\"11\"></a>\n",
    "## 11 - Congratulations!\n",
    "\n",
    "You have successfully used Deep Q-Learning with Experience Replay to train an agent to land a lunar lander safely on a landing pad on the surface of the moon. Congratulations!"
   ]
  },
  {
   "cell_type": "markdown",
   "metadata": {},
   "source": [
    "<a name=\"12\"></a>\n",
    "## 12 - References\n",
    "\n",
    "If you would like to learn more about Deep Q-Learning, we recommend you check out the following papers.\n",
    "\n",
    "\n",
    "* Mnih, V., Kavukcuoglu, K., Silver, D. et al. Human-level control through deep reinforcement learning. Nature 518, 529–533 (2015).\n",
    "\n",
    "\n",
    "* Lillicrap, T. P., Hunt, J. J., Pritzel, A., et al. Continuous Control with Deep Reinforcement Learning. ICLR (2016).\n",
    "\n",
    "\n",
    "* Mnih, V., Kavukcuoglu, K., Silver, D. et al. Playing Atari with Deep Reinforcement Learning. arXiv e-prints.  arXiv:1312.5602 (2013)."
   ]
  },
  {
   "cell_type": "markdown",
   "metadata": {},
   "source": [
    "<details>\n",
    "  <summary><font size=\"2\" color=\"darkgreen\"><b>Please click here if you want to experiment with any of the non-graded code.</b></font></summary>\n",
    "    <p><i><b>Important Note: Please only do this when you've already passed the assignment to avoid problems with the autograder.</b></i>\n",
    "    <ol>\n",
    "        <li> On the notebook’s menu, click “View” > “Cell Toolbar” > “Edit Metadata”</li>\n",
    "        <li> Hit the “Edit Metadata” button next to the code cell which you want to lock/unlock</li>\n",
    "        <li> Set the attribute value for “editable” to:\n",
    "            <ul>\n",
    "                <li> “true” if you want to unlock it </li>\n",
    "                <li> “false” if you want to lock it </li>\n",
    "            </ul>\n",
    "        </li>\n",
    "        <li> On the notebook’s menu, click “View” > “Cell Toolbar” > “None” </li>\n",
    "    </ol>\n",
    "    <p> Here's a short demo of how to do the steps above: \n",
    "        <br>\n",
    "        <img src=\"https://lh3.google.com/u/0/d/14Xy_Mb17CZVgzVAgq7NCjMVBvSae3xO1\" align=\"center\" alt=\"unlock_cells.gif\">\n",
    "</details>"
   ]
  }
 ],
 "metadata": {
  "accelerator": "GPU",
  "colab": {
   "collapsed_sections": [],
   "name": "TensorFlow - Lunar Lander.ipynb",
   "provenance": []
  },
  "kernelspec": {
   "display_name": "Python 3",
   "language": "python",
   "name": "python3"
  },
  "language_info": {
   "codemirror_mode": {
    "name": "ipython",
    "version": 3
   },
   "file_extension": ".py",
   "mimetype": "text/x-python",
   "name": "python",
   "nbconvert_exporter": "python",
   "pygments_lexer": "ipython3",
   "version": "3.7.6"
  }
 },
 "nbformat": 4,
 "nbformat_minor": 1
}
